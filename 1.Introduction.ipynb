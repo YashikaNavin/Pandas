{
 "cells": [
  {
   "cell_type": "markdown",
   "metadata": {},
   "source": [
    "# Introduction to Pandas:"
   ]
  },
  {
   "cell_type": "markdown",
   "metadata": {},
   "source": [
    "'pandas' is a python package providing fast,flexible and expressive data structures that makes the working with relational or labeled data easy. It is a library basically made for data manipulation and analysis."
   ]
  },
  {
   "cell_type": "markdown",
   "metadata": {},
   "source": [
    "Pandas library is made upon numpy library which means it requires numpy to operate. It provide easy way to create, manipulate and wrangle data (i.e. transforming and mapping data from one raw format to another format)."
   ]
  },
  {
   "cell_type": "markdown",
   "metadata": {},
   "source": [
    "There are two primary data structures used by pandas. They are:\n",
    "1. Series - 1D labeled homogeneously-typed array\n",
    "2. DataFrame - General 2D labeled, size-mutable tabular structure with potentially heterogeneously-typed column"
   ]
  },
  {
   "cell_type": "markdown",
   "metadata": {},
   "source": [
    "Pandas is used to work with different kinds of data, such as:-\n",
    "1. Tabular data\n",
    "2. Ordered and unordered time series data\n",
    "3. Arbitary matrix data\n",
    "4. Any other form of observational/statistical data"
   ]
  },
  {
   "cell_type": "markdown",
   "metadata": {},
   "source": [
    "# Uses of Pandas:"
   ]
  },
  {
   "cell_type": "markdown",
   "metadata": {},
   "source": [
    "1. Easily handles missing data\n",
    "2. It provide size mutability i.e. columns can be inserted or removed from multidimensional data\n",
    "3. It provides efficient way to split the data.\n",
    "4. Merge, concatenate or reshape of the data"
   ]
  },
  {
   "cell_type": "markdown",
   "metadata": {},
   "source": [
    "** Time series data is the series of data points related to certain time period.\n",
    ">e.g: a plot of sales in last 10 years"
   ]
  },
  {
   "cell_type": "code",
   "execution_count": null,
   "metadata": {},
   "outputs": [],
   "source": []
  }
 ],
 "metadata": {
  "kernelspec": {
   "display_name": "Python 3",
   "language": "python",
   "name": "python3"
  }
 },
 "nbformat": 4,
 "nbformat_minor": 2
}
